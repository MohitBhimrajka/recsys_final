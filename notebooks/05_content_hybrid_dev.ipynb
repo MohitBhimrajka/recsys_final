{
 "cells": [
  {
   "cell_type": "code",
   "execution_count": 17,
   "metadata": {},
   "outputs": [
    {
     "name": "stdout",
     "output_type": "stream",
     "text": [
      "Using device: cpu\n",
      "Setup complete. Modules imported.\n"
     ]
    }
   ],
   "source": [
    "# Cell [1] - Imports and Setup\n",
    "import pandas as pd\n",
    "import numpy as np\n",
    "import torch\n",
    "import torch.nn as nn\n",
    "import torch.optim as optim\n",
    "from torch.utils.data import DataLoader\n",
    "from sklearn.model_selection import train_test_split\n",
    "from tqdm.notebook import tqdm\n",
    "import matplotlib.pyplot as plt\n",
    "import sys\n",
    "from pathlib import Path\n",
    "import math\n",
    "import seaborn as sns\n",
    "\n",
    "\n",
    "# Add project root to sys.path\n",
    "project_root = Path.cwd().parent\n",
    "if str(project_root) not in sys.path:\n",
    "    sys.path.append(str(project_root))\n",
    "\n",
    "# Import project modules\n",
    "from src import config\n",
    "from src.data.dataset import HybridDataset, create_mappings_and_unique_ids # <<< Import HybridDataset\n",
    "from src.models.hybrid import HybridNCF # Import the Hybrid model\n",
    "\n",
    "# Set device\n",
    "device = torch.device(\"cuda\" if torch.cuda.is_available() else \"cpu\")\n",
    "print(f\"Using device: {device}\")\n",
    "\n",
    "# Set display options\n",
    "pd.set_option('display.max_columns', 100)\n",
    "pd.set_option('display.max_rows', 100)\n",
    "sns.set_style(\"whitegrid\")\n",
    "print(\"Setup complete. Modules imported.\")"
   ]
  },
  {
   "cell_type": "code",
   "execution_count": 18,
   "metadata": {},
   "outputs": [
    {
     "name": "stdout",
     "output_type": "stream",
     "text": [
      "Processed data loaded successfully.\n",
      "Interactions shape: (28466, 7)\n",
      "Users shape: (25364, 9)\n",
      "Items shape: (22, 22)\n",
      "Set 'presentation_id' as index for item_features_df.\n",
      "Item feature dimension: 21\n",
      "\n",
      "Interactions Head:\n",
      "    id_student presentation_id  total_clicks  interaction_days  \\\n",
      "0        6516       AAA_2014J          2791               159   \n",
      "1        8462       DDD_2013J           646                56   \n",
      "2        8462       DDD_2014J            10                 1   \n",
      "\n",
      "   first_interaction_date  last_interaction_date  implicit_feedback  \n",
      "0                     -23                    269           7.934513  \n",
      "1                      -6                    118           6.472346  \n",
      "2                      10                     10           2.397895  \n",
      "\n",
      "Item Features Head:\n",
      "                  module_presentation_length  vle_prop_dataplus  \\\n",
      "presentation_id                                                  \n",
      "AAA_2013J                               268           0.018957   \n",
      "AAA_2014J                               269           0.019802   \n",
      "BBB_2013J                               268           0.000000   \n",
      "\n",
      "                 vle_prop_dualpane  vle_prop_externalquiz  vle_prop_folder  \\\n",
      "presentation_id                                                              \n",
      "AAA_2013J                      0.0                    0.0              0.0   \n",
      "AAA_2014J                      0.0                    0.0              0.0   \n",
      "BBB_2013J                      0.0                    0.0              0.0   \n",
      "\n",
      "                 vle_prop_forumng  vle_prop_glossary  vle_prop_homepage  \\\n",
      "presentation_id                                                           \n",
      "AAA_2013J                0.071090           0.009479           0.004739   \n",
      "AAA_2014J                0.029703           0.009901           0.004950   \n",
      "BBB_2013J                0.059190           0.003115           0.003115   \n",
      "\n",
      "                 vle_prop_htmlactivity  vle_prop_oucollaborate  \\\n",
      "presentation_id                                                  \n",
      "AAA_2013J                          0.0                0.009479   \n",
      "AAA_2014J                          0.0                0.009901   \n",
      "BBB_2013J                          0.0                0.006231   \n",
      "\n",
      "                 vle_prop_oucontent  vle_prop_ouelluminate  vle_prop_ouwiki  \\\n",
      "presentation_id                                                               \n",
      "AAA_2013J                  0.322275                    0.0              0.0   \n",
      "AAA_2014J                  0.336634                    0.0              0.0   \n",
      "BBB_2013J                  0.009346                    0.0              0.0   \n",
      "\n",
      "                 vle_prop_page  vle_prop_questionnaire  vle_prop_quiz  \\\n",
      "presentation_id                                                         \n",
      "AAA_2013J                  0.0                     0.0       0.000000   \n",
      "AAA_2014J                  0.0                     0.0       0.000000   \n",
      "BBB_2013J                  0.0                     0.0       0.015576   \n",
      "\n",
      "                 vle_prop_repeatactivity  vle_prop_resource  \\\n",
      "presentation_id                                               \n",
      "AAA_2013J                            0.0           0.450237   \n",
      "AAA_2014J                            0.0           0.460396   \n",
      "BBB_2013J                            0.0           0.735202   \n",
      "\n",
      "                 vle_prop_sharedsubpage  vle_prop_subpage  vle_prop_url  \n",
      "presentation_id                                                          \n",
      "AAA_2013J                      0.000000          0.028436      0.085308  \n",
      "AAA_2014J                      0.000000          0.029703      0.099010  \n",
      "BBB_2013J                      0.003115          0.118380      0.046729  \n"
     ]
    }
   ],
   "source": [
    "# Cell [2] - Load Processed Data\n",
    "interactions_path = config.PROCESSED_DATA_DIR / \"interactions_final.parquet\"\n",
    "users_path = config.PROCESSED_DATA_DIR / \"users_final.parquet\"\n",
    "items_path = config.PROCESSED_DATA_DIR / \"items_final.parquet\"\n",
    "\n",
    "try:\n",
    "    interactions_df = pd.read_parquet(interactions_path)\n",
    "    users_features_df = pd.read_parquet(users_path) # User features (not directly used by HybridNCF yet)\n",
    "    item_features_df = pd.read_parquet(items_path)   # Item features (presentation_id as col)\n",
    "    print(\"Processed data loaded successfully.\")\n",
    "    print(f\"Interactions shape: {interactions_df.shape}\")\n",
    "    print(f\"Users shape: {users_features_df.shape}\")\n",
    "    print(f\"Items shape: {item_features_df.shape}\")\n",
    "\n",
    "    # IMPORTANT: Ensure item_features_df has 'presentation_id' as index for the dataset\n",
    "    if 'presentation_id' in item_features_df.columns:\n",
    "        item_features_df = item_features_df.set_index('presentation_id')\n",
    "        print(\"Set 'presentation_id' as index for item_features_df.\")\n",
    "    elif item_features_df.index.name != 'presentation_id':\n",
    "         raise ValueError(\"item_features_df must have 'presentation_id' as index or column.\")\n",
    "\n",
    "    # Store item feature dimension\n",
    "    ITEM_FEATURE_DIM = item_features_df.shape[1]\n",
    "    print(f\"Item feature dimension: {ITEM_FEATURE_DIM}\")\n",
    "\n",
    "\n",
    "except FileNotFoundError as e:\n",
    "    print(f\"Error loading processed files: {e}\")\n",
    "    print(\"Please ensure the preprocessing pipeline (run_preprocessing.py) has run successfully.\")\n",
    "    raise e\n",
    "except Exception as e:\n",
    "    print(f\"An unexpected error occurred during loading: {e}\")\n",
    "    raise e\n",
    "\n",
    "print(\"\\nInteractions Head:\\n\", interactions_df.head(3))\n",
    "print(\"\\nItem Features Head:\\n\", item_features_df.head(3))\n",
    "\n",
    "# Drop constant columns from item features if they exist (e.g., all zeros)\n",
    "# These provide no information for the MLP\n",
    "const_cols = item_features_df.columns[item_features_df.nunique() <= 1]\n",
    "if len(const_cols) > 0:\n",
    "    print(f\"\\nDropping constant item feature columns: {const_cols.tolist()}\")\n",
    "    item_features_df = item_features_df.drop(columns=const_cols)\n",
    "    ITEM_FEATURE_DIM = item_features_df.shape[1]\n",
    "    print(f\"Updated item feature dimension: {ITEM_FEATURE_DIM}\")"
   ]
  },
  {
   "cell_type": "code",
   "execution_count": 19,
   "metadata": {},
   "outputs": [
    {
     "name": "stdout",
     "output_type": "stream",
     "text": [
      "Number of unique users: 25364\n",
      "Number of unique items: 22\n",
      "Preparing HybridDataset...\n",
      "Item features array created shape: (22, 21)\n",
      "Dataset contains 25619 positive interactions.\n",
      "Generating 4 negative samples per positive.\n",
      "HybridDataset preparation complete.\n",
      "Preparing HybridDataset...\n",
      "Item features array created shape: (22, 21)\n",
      "Dataset contains 2847 positive interactions.\n",
      "HybridDataset preparation complete.\n",
      "\n",
      "Hybrid DataLoaders created. Batch size: 512\n",
      "\n",
      "Sample batch from Hybrid Train DataLoader:\n",
      "Loading .env from: /Users/mohit/Desktop/everything/ATLAS/Semester 4/Pinnacle/recsys_final/.env\n",
      "Database URI configured: Yes\n",
      "Loading .env from: /Users/mohit/Desktop/everything/ATLAS/Semester 4/Pinnacle/recsys_final/.env\n",
      "Database URI configured: Yes\n",
      "Loading .env from: /Users/mohit/Desktop/everything/ATLAS/Semester 4/Pinnacle/recsys_final/.env\n",
      "Database URI configured: Yes\n",
      "Loading .env from: /Users/mohit/Desktop/everything/ATLAS/Semester 4/Pinnacle/recsys_final/.env\n",
      "Database URI configured: Yes\n",
      " Users shape: torch.Size([512])\n",
      " Items shape: torch.Size([512])\n",
      " Feats shape: torch.Size([512, 21])\n",
      " Labels shape: torch.Size([512])\n"
     ]
    }
   ],
   "source": [
    "# Cell [3] - Create Mappings and Hybrid Dataset\n",
    "\n",
    "USER_COL = 'id_student'\n",
    "ITEM_COL = 'presentation_id' # This is the index name now in item_features_df\n",
    "\n",
    "# Create mappings from original IDs based on interactions data\n",
    "user_id_map, item_id_map, unique_users, unique_items = create_mappings_and_unique_ids(\n",
    "    interactions_df, USER_COL, ITEM_COL\n",
    ")\n",
    "n_users = len(unique_users)\n",
    "n_items = len(unique_items)\n",
    "\n",
    "print(f\"Number of unique users: {n_users}\")\n",
    "print(f\"Number of unique items: {n_items}\")\n",
    "\n",
    "# Ensure item_features_df covers all items in the map\n",
    "items_in_map_set = set(item_id_map.keys())\n",
    "items_in_features_set = set(item_features_df.index)\n",
    "if not items_in_map_set.issubset(items_in_features_set):\n",
    "    missing = items_in_map_set - items_in_features_set\n",
    "    raise ValueError(f\"{len(missing)} items from interactions are missing in item_features_df. E.g.: {list(missing)[:5]}\")\n",
    "if items_in_features_set != items_in_map_set:\n",
    "     print(f\"Warning: {len(items_in_features_set - items_in_map_set)} items in features_df are not in interactions_df.\")\n",
    "\n",
    "\n",
    "# Split interactions for train/validation (simple random split for dev)\n",
    "train_interactions, val_interactions = train_test_split(\n",
    "    interactions_df, test_size=0.1, random_state=config.RANDOM_SEED\n",
    ")\n",
    "\n",
    "# Create Hybrid Datasets\n",
    "# Pass the (potentially column-filtered) item_features_df\n",
    "train_dataset_hybrid = HybridDataset(\n",
    "    interactions_df=train_interactions,\n",
    "    item_features_df=item_features_df,\n",
    "    all_item_ids=item_features_df.index.tolist(),\n",
    "    user_id_map=user_id_map,\n",
    "    item_id_map=item_id_map,\n",
    "    user_col=USER_COL,\n",
    "    item_col=ITEM_COL,\n",
    "    num_negatives=4\n",
    ")\n",
    "\n",
    "val_dataset_hybrid = HybridDataset(\n",
    "    interactions_df=val_interactions,\n",
    "    item_features_df=item_features_df,\n",
    "    all_item_ids=item_features_df.index.tolist(),\n",
    "    user_id_map=user_id_map,\n",
    "    item_id_map=item_id_map,\n",
    "    user_col=USER_COL,\n",
    "    item_col=ITEM_COL,\n",
    "    num_negatives=0\n",
    ")\n",
    "\n",
    "# Create DataLoaders\n",
    "BATCH_SIZE = 512 # Adjust based on memory\n",
    "train_loader_hybrid = DataLoader(train_dataset_hybrid, batch_size=BATCH_SIZE, shuffle=True, num_workers=4, pin_memory=True)\n",
    "val_loader_hybrid = DataLoader(val_dataset_hybrid, batch_size=BATCH_SIZE * 2, shuffle=False, num_workers=4, pin_memory=True)\n",
    "\n",
    "print(f\"\\nHybrid DataLoaders created. Batch size: {BATCH_SIZE}\")\n",
    "\n",
    "# Test a batch\n",
    "print(\"\\nSample batch from Hybrid Train DataLoader:\")\n",
    "for batch in train_loader_hybrid:\n",
    "    users, items, feats, labels = batch\n",
    "    print(\" Users shape:\", users.shape)\n",
    "    print(\" Items shape:\", items.shape)\n",
    "    print(\" Feats shape:\", feats.shape) # Should be (BATCH_SIZE, ITEM_FEATURE_DIM)\n",
    "    print(\" Labels shape:\", labels.shape)\n",
    "    break"
   ]
  },
  {
   "cell_type": "code",
   "execution_count": 20,
   "metadata": {},
   "outputs": [
    {
     "name": "stdout",
     "output_type": "stream",
     "text": [
      "Initializing HybridNCF Model...\n",
      " CF Embedding Dim: 32\n",
      " Initializing Content Encoder (Input: 21, Output: 16)\n",
      "Initializing ContentEncoder Model...\n",
      " Input Dim: 21\n",
      " Hidden Dims: [32, 16]\n",
      " Output Embedding Dim: 16\n",
      " Layer Dimensions: [21, 32, 16, 16]\n",
      "ContentEncoder Model Initialized.\n",
      " Final MLP Input Dim: 80\n",
      " Final MLP Layers: [64, 32, 16]\n",
      "HybridNCF Model Initialized.\n",
      "Hybrid Model, Criterion, and Optimizer initialized.\n"
     ]
    }
   ],
   "source": [
    "# Cell [4] - Initialize Hybrid Model, Loss, Optimizer\n",
    "\n",
    "# --- Hyperparameters ---\n",
    "CF_EMBEDDING_DIM = 32   # Embedding size for CF user/item\n",
    "CONTENT_EMBEDDING_DIM = 16 # Embedding size for item content output\n",
    "# Hidden layers for Content Encoder MLP (Input: ITEM_FEATURE_DIM -> ... -> CONTENT_EMBEDDING_DIM)\n",
    "CONTENT_ENCODER_HIDDEN = [32, 16] # Example, adjust if needed\n",
    "# Hidden layers for Final MLP (Input: CF_EMBEDDING_DIM*2 + CONTENT_EMBEDDING_DIM -> ... -> 1)\n",
    "FINAL_MLP_LAYERS = [64, 32, 16] # Example\n",
    "DROPOUT = 0.2\n",
    "\n",
    "# Learning Rate and Epochs\n",
    "LEARNING_RATE = 0.001\n",
    "EPOCHS = 10 # Start with a few epochs\n",
    "WEIGHT_DECAY = 1e-5 # Optional weight decay\n",
    "\n",
    "# --- Initialize Model ---\n",
    "hybrid_model = HybridNCF(\n",
    "    n_users=n_users,\n",
    "    n_items=n_items,\n",
    "    item_feature_dim=ITEM_FEATURE_DIM, # Determined in cell [2]\n",
    "    cf_embedding_dim=CF_EMBEDDING_DIM,\n",
    "    content_embedding_dim=CONTENT_EMBEDDING_DIM,\n",
    "    content_encoder_hidden_dims=CONTENT_ENCODER_HIDDEN,\n",
    "    final_mlp_layers=FINAL_MLP_LAYERS,\n",
    "    dropout=DROPOUT\n",
    ").to(device)\n",
    "\n",
    "# --- Loss and Optimizer ---\n",
    "criterion = nn.BCEWithLogitsLoss()\n",
    "optimizer = optim.Adam(hybrid_model.parameters(), lr=LEARNING_RATE, weight_decay=WEIGHT_DECAY)\n",
    "\n",
    "print(\"Hybrid Model, Criterion, and Optimizer initialized.\")\n",
    "# print(hybrid_model) # Optional: print architecture"
   ]
  },
  {
   "cell_type": "code",
   "execution_count": 21,
   "metadata": {},
   "outputs": [
    {
     "name": "stdout",
     "output_type": "stream",
     "text": [
      "\n",
      "--- Starting Hybrid Model Training ---\n"
     ]
    },
    {
     "data": {
      "application/vnd.jupyter.widget-view+json": {
       "model_id": "59ac149db8244566b5a541c61837df07",
       "version_major": 2,
       "version_minor": 0
      },
      "text/plain": [
       "Epoch 1/10:   0%|          | 0/251 [00:00<?, ?it/s]"
      ]
     },
     "metadata": {},
     "output_type": "display_data"
    },
    {
     "name": "stdout",
     "output_type": "stream",
     "text": [
      "Loading .env from: /Users/mohit/Desktop/everything/ATLAS/Semester 4/Pinnacle/recsys_final/.env\n",
      "Database URI configured: Yes\n",
      "Loading .env from: /Users/mohit/Desktop/everything/ATLAS/Semester 4/Pinnacle/recsys_final/.env\n",
      "Database URI configured: Yes\n",
      "Loading .env from: /Users/mohit/Desktop/everything/ATLAS/Semester 4/Pinnacle/recsys_final/.env\n",
      "Database URI configured: Yes\n",
      "Loading .env from: /Users/mohit/Desktop/everything/ATLAS/Semester 4/Pinnacle/recsys_final/.env\n",
      "Database URI configured: Yes\n",
      "Epoch 1/10 - Training Loss: 0.7593\n"
     ]
    },
    {
     "data": {
      "application/vnd.jupyter.widget-view+json": {
       "model_id": "6da3f97705cc4acebd4477926693c96d",
       "version_major": 2,
       "version_minor": 0
      },
      "text/plain": [
       "Epoch 2/10:   0%|          | 0/251 [00:00<?, ?it/s]"
      ]
     },
     "metadata": {},
     "output_type": "display_data"
    },
    {
     "name": "stdout",
     "output_type": "stream",
     "text": [
      "Loading .env from: /Users/mohit/Desktop/everything/ATLAS/Semester 4/Pinnacle/recsys_final/.env\n",
      "Database URI configured: Yes\n",
      "Loading .env from: /Users/mohit/Desktop/everything/ATLAS/Semester 4/Pinnacle/recsys_final/.env\n",
      "Database URI configured: Yes\n",
      "Loading .env from: /Users/mohit/Desktop/everything/ATLAS/Semester 4/Pinnacle/recsys_final/.env\n",
      "Database URI configured: Yes\n",
      "Loading .env from: /Users/mohit/Desktop/everything/ATLAS/Semester 4/Pinnacle/recsys_final/.env\n",
      "Database URI configured: Yes\n",
      "Epoch 2/10 - Training Loss: 0.5220\n"
     ]
    },
    {
     "data": {
      "application/vnd.jupyter.widget-view+json": {
       "model_id": "b8c8be19848249fc96c1253d058e00de",
       "version_major": 2,
       "version_minor": 0
      },
      "text/plain": [
       "Epoch 3/10:   0%|          | 0/251 [00:00<?, ?it/s]"
      ]
     },
     "metadata": {},
     "output_type": "display_data"
    },
    {
     "name": "stdout",
     "output_type": "stream",
     "text": [
      "Loading .env from: /Users/mohit/Desktop/everything/ATLAS/Semester 4/Pinnacle/recsys_final/.env\n",
      "Database URI configured: Yes\n",
      "Loading .env from: /Users/mohit/Desktop/everything/ATLAS/Semester 4/Pinnacle/recsys_final/.env\n",
      "Database URI configured: Yes\n",
      "Loading .env from: /Users/mohit/Desktop/everything/ATLAS/Semester 4/Pinnacle/recsys_final/.env\n",
      "Database URI configured: Yes\n",
      "Loading .env from: /Users/mohit/Desktop/everything/ATLAS/Semester 4/Pinnacle/recsys_final/.env\n",
      "Database URI configured: Yes\n",
      "Epoch 3/10 - Training Loss: 0.5061\n"
     ]
    },
    {
     "data": {
      "application/vnd.jupyter.widget-view+json": {
       "model_id": "4c67d79b71214ce9a2f58d28af8848d8",
       "version_major": 2,
       "version_minor": 0
      },
      "text/plain": [
       "Epoch 4/10:   0%|          | 0/251 [00:00<?, ?it/s]"
      ]
     },
     "metadata": {},
     "output_type": "display_data"
    },
    {
     "name": "stdout",
     "output_type": "stream",
     "text": [
      "Loading .env from: /Users/mohit/Desktop/everything/ATLAS/Semester 4/Pinnacle/recsys_final/.env\n",
      "Database URI configured: Yes\n",
      "Loading .env from: /Users/mohit/Desktop/everything/ATLAS/Semester 4/Pinnacle/recsys_final/.env\n",
      "Database URI configured: Yes\n",
      "Loading .env from: /Users/mohit/Desktop/everything/ATLAS/Semester 4/Pinnacle/recsys_final/.env\n",
      "Database URI configured: Yes\n",
      "Loading .env from: /Users/mohit/Desktop/everything/ATLAS/Semester 4/Pinnacle/recsys_final/.env\n",
      "Database URI configured: Yes\n",
      "Epoch 4/10 - Training Loss: 0.4955\n"
     ]
    },
    {
     "data": {
      "application/vnd.jupyter.widget-view+json": {
       "model_id": "dbd52c30b136417a9600ed5cbc313dab",
       "version_major": 2,
       "version_minor": 0
      },
      "text/plain": [
       "Epoch 5/10:   0%|          | 0/251 [00:00<?, ?it/s]"
      ]
     },
     "metadata": {},
     "output_type": "display_data"
    },
    {
     "name": "stdout",
     "output_type": "stream",
     "text": [
      "Loading .env from: /Users/mohit/Desktop/everything/ATLAS/Semester 4/Pinnacle/recsys_final/.env\n",
      "Database URI configured: Yes\n",
      "Loading .env from: /Users/mohit/Desktop/everything/ATLAS/Semester 4/Pinnacle/recsys_final/.env\n",
      "Database URI configured: Yes\n",
      "Loading .env from: /Users/mohit/Desktop/everything/ATLAS/Semester 4/Pinnacle/recsys_final/.env\n",
      "Database URI configured: Yes\n",
      "Loading .env from: /Users/mohit/Desktop/everything/ATLAS/Semester 4/Pinnacle/recsys_final/.env\n",
      "Database URI configured: Yes\n",
      "Epoch 5/10 - Training Loss: 0.4910\n"
     ]
    },
    {
     "data": {
      "application/vnd.jupyter.widget-view+json": {
       "model_id": "24607a4ca1b84709a24b84686ba4d093",
       "version_major": 2,
       "version_minor": 0
      },
      "text/plain": [
       "Epoch 6/10:   0%|          | 0/251 [00:00<?, ?it/s]"
      ]
     },
     "metadata": {},
     "output_type": "display_data"
    },
    {
     "name": "stdout",
     "output_type": "stream",
     "text": [
      "Loading .env from: /Users/mohit/Desktop/everything/ATLAS/Semester 4/Pinnacle/recsys_final/.env\n",
      "Database URI configured: Yes\n",
      "Loading .env from: /Users/mohit/Desktop/everything/ATLAS/Semester 4/Pinnacle/recsys_final/.env\n",
      "Database URI configured: Yes\n",
      "Loading .env from: /Users/mohit/Desktop/everything/ATLAS/Semester 4/Pinnacle/recsys_final/.env\n",
      "Database URI configured: Yes\n",
      "Loading .env from: /Users/mohit/Desktop/everything/ATLAS/Semester 4/Pinnacle/recsys_final/.env\n",
      "Database URI configured: Yes\n",
      "Epoch 6/10 - Training Loss: 0.4901\n"
     ]
    },
    {
     "data": {
      "application/vnd.jupyter.widget-view+json": {
       "model_id": "014c71040d624e699ad891a18cf2f28b",
       "version_major": 2,
       "version_minor": 0
      },
      "text/plain": [
       "Epoch 7/10:   0%|          | 0/251 [00:00<?, ?it/s]"
      ]
     },
     "metadata": {},
     "output_type": "display_data"
    },
    {
     "name": "stdout",
     "output_type": "stream",
     "text": [
      "Loading .env from: /Users/mohit/Desktop/everything/ATLAS/Semester 4/Pinnacle/recsys_final/.env\n",
      "Database URI configured: Yes\n",
      "Loading .env from: /Users/mohit/Desktop/everything/ATLAS/Semester 4/Pinnacle/recsys_final/.env\n",
      "Database URI configured: Yes\n",
      "Loading .env from: /Users/mohit/Desktop/everything/ATLAS/Semester 4/Pinnacle/recsys_final/.env\n",
      "Database URI configured: Yes\n",
      "Loading .env from: /Users/mohit/Desktop/everything/ATLAS/Semester 4/Pinnacle/recsys_final/.env\n",
      "Database URI configured: Yes\n",
      "Epoch 7/10 - Training Loss: 0.4888\n"
     ]
    },
    {
     "data": {
      "application/vnd.jupyter.widget-view+json": {
       "model_id": "2e60d908147b41a49e3278079b7cb8a4",
       "version_major": 2,
       "version_minor": 0
      },
      "text/plain": [
       "Epoch 8/10:   0%|          | 0/251 [00:00<?, ?it/s]"
      ]
     },
     "metadata": {},
     "output_type": "display_data"
    },
    {
     "name": "stdout",
     "output_type": "stream",
     "text": [
      "Loading .env from: /Users/mohit/Desktop/everything/ATLAS/Semester 4/Pinnacle/recsys_final/.env\n",
      "Database URI configured: Yes\n",
      "Loading .env from: /Users/mohit/Desktop/everything/ATLAS/Semester 4/Pinnacle/recsys_final/.env\n",
      "Database URI configured: Yes\n",
      "Loading .env from: /Users/mohit/Desktop/everything/ATLAS/Semester 4/Pinnacle/recsys_final/.env\n",
      "Database URI configured: Yes\n",
      "Loading .env from: /Users/mohit/Desktop/everything/ATLAS/Semester 4/Pinnacle/recsys_final/.env\n",
      "Database URI configured: Yes\n",
      "Epoch 8/10 - Training Loss: 0.4879\n"
     ]
    },
    {
     "data": {
      "application/vnd.jupyter.widget-view+json": {
       "model_id": "2125fe2c716049f1ae4fdfa4c3bd18f9",
       "version_major": 2,
       "version_minor": 0
      },
      "text/plain": [
       "Epoch 9/10:   0%|          | 0/251 [00:00<?, ?it/s]"
      ]
     },
     "metadata": {},
     "output_type": "display_data"
    },
    {
     "name": "stdout",
     "output_type": "stream",
     "text": [
      "Loading .env from: /Users/mohit/Desktop/everything/ATLAS/Semester 4/Pinnacle/recsys_final/.env\n",
      "Database URI configured: Yes\n",
      "Loading .env from: /Users/mohit/Desktop/everything/ATLAS/Semester 4/Pinnacle/recsys_final/.env\n",
      "Database URI configured: Yes\n",
      "Loading .env from: /Users/mohit/Desktop/everything/ATLAS/Semester 4/Pinnacle/recsys_final/.env\n",
      "Database URI configured: Yes\n",
      "Loading .env from: /Users/mohit/Desktop/everything/ATLAS/Semester 4/Pinnacle/recsys_final/.env\n",
      "Database URI configured: Yes\n",
      "Epoch 9/10 - Training Loss: 0.4879\n"
     ]
    },
    {
     "data": {
      "application/vnd.jupyter.widget-view+json": {
       "model_id": "2f9c235155d640acbc59db8d844e0c04",
       "version_major": 2,
       "version_minor": 0
      },
      "text/plain": [
       "Epoch 10/10:   0%|          | 0/251 [00:00<?, ?it/s]"
      ]
     },
     "metadata": {},
     "output_type": "display_data"
    },
    {
     "name": "stdout",
     "output_type": "stream",
     "text": [
      "Loading .env from: /Users/mohit/Desktop/everything/ATLAS/Semester 4/Pinnacle/recsys_final/.env\n",
      "Database URI configured: Yes\n",
      "Loading .env from: /Users/mohit/Desktop/everything/ATLAS/Semester 4/Pinnacle/recsys_final/.env\n",
      "Database URI configured: Yes\n",
      "Loading .env from: /Users/mohit/Desktop/everything/ATLAS/Semester 4/Pinnacle/recsys_final/.env\n",
      "Database URI configured: Yes\n",
      "Loading .env from: /Users/mohit/Desktop/everything/ATLAS/Semester 4/Pinnacle/recsys_final/.env\n",
      "Database URI configured: Yes\n",
      "Epoch 10/10 - Training Loss: 0.4869\n",
      "--- Hybrid Training Finished ---\n"
     ]
    }
   ],
   "source": [
    "# Cell [5] - Hybrid Model Training Loop\n",
    "\n",
    "print(\"\\n--- Starting Hybrid Model Training ---\")\n",
    "train_losses = []\n",
    "# We don't have a separate validation set for features, so basic validation is less informative here\n",
    "# We'll primarily track training loss. Final evaluation uses the time-split test set.\n",
    "\n",
    "for epoch in range(EPOCHS):\n",
    "    hybrid_model.train() # Set model to training mode\n",
    "    epoch_loss = 0.0\n",
    "    progress_bar = tqdm(train_loader_hybrid, desc=f\"Epoch {epoch+1}/{EPOCHS}\", leave=False)\n",
    "\n",
    "    for users, items, features, labels in progress_bar:\n",
    "        # Move data to device\n",
    "        users = users.to(device)\n",
    "        items = items.to(device)\n",
    "        features = features.to(device)\n",
    "        labels = labels.to(device)\n",
    "\n",
    "        # Zero gradients\n",
    "        optimizer.zero_grad()\n",
    "\n",
    "        # Forward pass (Model expects user_indices, item_indices, item_features)\n",
    "        logits = hybrid_model(users, items, features)\n",
    "\n",
    "        # Calculate loss\n",
    "        loss = criterion(logits, labels)\n",
    "\n",
    "        # Backward pass\n",
    "        loss.backward()\n",
    "\n",
    "        # Update weights\n",
    "        optimizer.step()\n",
    "\n",
    "        epoch_loss += loss.item()\n",
    "        progress_bar.set_postfix({'loss': loss.item()})\n",
    "\n",
    "    avg_epoch_loss = epoch_loss / len(train_loader_hybrid)\n",
    "    train_losses.append(avg_epoch_loss)\n",
    "    print(f\"Epoch {epoch+1}/{EPOCHS} - Training Loss: {avg_epoch_loss:.4f}\")\n",
    "\n",
    "    # Basic validation can be added here if desired, but requires careful handling\n",
    "    # of features for the validation interactions. Skipping for now.\n",
    "\n",
    "print(\"--- Hybrid Training Finished ---\")"
   ]
  },
  {
   "cell_type": "code",
   "execution_count": 22,
   "metadata": {},
   "outputs": [
    {
     "data": {
      "image/png": "[encoded data removed]",
      "text/plain": [
       "<Figure size 1000x500 with 1 Axes>"
      ]
     },
     "metadata": {},
     "output_type": "display_data"
    }
   ],
   "source": [
    "# Cell [6] - Plot Training Loss\n",
    "plt.figure(figsize=(10, 5))\n",
    "plt.plot(range(1, EPOCHS + 1), train_losses, marker='o', label='Training Loss')\n",
    "plt.xlabel(\"Epoch\")\n",
    "plt.ylabel(\"BCEWithLogitsLoss\")\n",
    "plt.title(\"Hybrid Model Training History\")\n",
    "plt.legend()\n",
    "plt.grid(True)\n",
    "plt.show()"
   ]
  },
  {
   "cell_type": "code",
   "execution_count": 25,
   "metadata": {},
   "outputs": [
    {
     "name": "stdout",
     "output_type": "stream",
     "text": [
      "Loading/Recreating time-based split for evaluation...\n",
      "Performing time-based split...\n",
      "Original interactions shape: (28466, 7)\n",
      "Splitting based on time threshold: last_interaction_date <= 250\n",
      " Initial train size: 22892, Initial test size: 5574\n",
      "Filtered 4836 interactions from test set (users/items not in train).\n",
      "Final Training set shape: (22892, 7)\n",
      "Final Test set shape: (738, 7)\n",
      "Users in Train: 20701, Users in Test: 731\n",
      "Items in Train: 22, Items in Test: 13\n",
      "Time-based split ready. Train: (22892, 7), Test: (738, 7)\n",
      "Hybrid model wrapped for evaluation.\n",
      "\n",
      "Initializing evaluator with Train: (22892, 7), Test: (738, 7)\n",
      "Evaluator initialized with 22 unique candidate items.\n",
      "Stored 20701 training interactions for filtering.\n",
      "Prepared test data for 731 users.\n",
      "\n",
      "--- Starting Evaluation of Hybrid Model ---\n",
      "\n",
      "--- Evaluating Model: HybridEvaluatorWrapper ---\n"
     ]
    },
    {
     "ename": "AttributeError",
     "evalue": "'HybridEvaluatorWrapper' object has no attribute 'get_known_items'",
     "output_type": "error",
     "traceback": [
      "\u001b[0;31m---------------------------------------------------------------------------\u001b[0m",
      "\u001b[0;31mAttributeError\u001b[0m                            Traceback (most recent call last)",
      "Cell \u001b[0;32mIn[25], line 139\u001b[0m\n\u001b[1;32m    129\u001b[0m hybrid_evaluator \u001b[38;5;241m=\u001b[39m RecEvaluator(\n\u001b[1;32m    130\u001b[0m     train_df\u001b[38;5;241m=\u001b[39mtrain_df_eval,\n\u001b[1;32m    131\u001b[0m     test_df\u001b[38;5;241m=\u001b[39mtest_df_eval,\n\u001b[0;32m   (...)\u001b[0m\n\u001b[1;32m    135\u001b[0m     k\u001b[38;5;241m=\u001b[39mconfig\u001b[38;5;241m.\u001b[39mTOP_K\n\u001b[1;32m    136\u001b[0m )\n\u001b[1;32m    138\u001b[0m \u001b[38;5;28mprint\u001b[39m(\u001b[38;5;124m\"\u001b[39m\u001b[38;5;130;01m\\n\u001b[39;00m\u001b[38;5;124m--- Starting Evaluation of Hybrid Model ---\u001b[39m\u001b[38;5;124m\"\u001b[39m)\n\u001b[0;32m--> 139\u001b[0m hybrid_results \u001b[38;5;241m=\u001b[39m hybrid_evaluator\u001b[38;5;241m.\u001b[39mevaluate_model(hybrid_eval_wrapper, n_neg_samples\u001b[38;5;241m=\u001b[39m\u001b[38;5;241m100\u001b[39m)\n\u001b[1;32m    141\u001b[0m \u001b[38;5;28mprint\u001b[39m(\u001b[38;5;124m\"\u001b[39m\u001b[38;5;130;01m\\n\u001b[39;00m\u001b[38;5;124mHybrid Model Evaluation Results:\u001b[39m\u001b[38;5;124m\"\u001b[39m)\n\u001b[1;32m    142\u001b[0m \u001b[38;5;28mprint\u001b[39m(hybrid_results)\n",
      "File \u001b[0;32m~/Desktop/everything/ATLAS/Semester 4/Pinnacle/recsys_final/src/evaluation/evaluator.py:99\u001b[0m, in \u001b[0;36mRecEvaluator.evaluate_model\u001b[0;34m(self, model, n_neg_samples)\u001b[0m\n\u001b[1;32m     96\u001b[0m     \u001b[38;5;28;01mreturn\u001b[39;00m {\u001b[38;5;124m'\u001b[39m\u001b[38;5;124mPrecision@k\u001b[39m\u001b[38;5;124m'\u001b[39m: \u001b[38;5;241m0\u001b[39m, \u001b[38;5;124m'\u001b[39m\u001b[38;5;124mRecall@k\u001b[39m\u001b[38;5;124m'\u001b[39m: \u001b[38;5;241m0\u001b[39m, \u001b[38;5;124m'\u001b[39m\u001b[38;5;124mNDCG@k\u001b[39m\u001b[38;5;124m'\u001b[39m: \u001b[38;5;241m0\u001b[39m, \u001b[38;5;124m'\u001b[39m\u001b[38;5;124mn_users_evaluated\u001b[39m\u001b[38;5;124m'\u001b[39m: \u001b[38;5;241m0\u001b[39m}\n\u001b[1;32m     98\u001b[0m \u001b[38;5;66;03m# Get items known by this specific model instance ONCE before the loop\u001b[39;00m\n\u001b[0;32m---> 99\u001b[0m model_known_items \u001b[38;5;241m=\u001b[39m model\u001b[38;5;241m.\u001b[39mget_known_items()\n\u001b[1;32m    100\u001b[0m \u001b[38;5;28;01mif\u001b[39;00m \u001b[38;5;129;01mnot\u001b[39;00m model_known_items:\n\u001b[1;32m    101\u001b[0m      \u001b[38;5;28mprint\u001b[39m(\u001b[38;5;124mf\u001b[39m\u001b[38;5;124m\"\u001b[39m\u001b[38;5;124mError: Model \u001b[39m\u001b[38;5;132;01m{\u001b[39;00mmodel\u001b[38;5;241m.\u001b[39m\u001b[38;5;18m__class__\u001b[39m\u001b[38;5;241m.\u001b[39m\u001b[38;5;18m__name__\u001b[39m\u001b[38;5;132;01m}\u001b[39;00m\u001b[38;5;124m reported no known items. Cannot evaluate.\u001b[39m\u001b[38;5;124m\"\u001b[39m)\n",
      "\u001b[0;31mAttributeError\u001b[0m: 'HybridEvaluatorWrapper' object has no attribute 'get_known_items'"
     ]
    }
   ],
   "source": [
    "# Cell [7] – Evaluate Hybrid Model\n",
    "\n",
    "import pandas as pd\n",
    "import numpy as np\n",
    "import torch\n",
    "from pathlib import Path\n",
    "import sys\n",
    "\n",
    "# --- Ensure project root is in sys.path ---\n",
    "project_root = Path.cwd().parent\n",
    "if str(project_root) not in sys.path:\n",
    "    sys.path.append(str(project_root))\n",
    "# -----------------------------------------\n",
    "\n",
    "# --- Import necessary functions/classes ---\n",
    "from src import config\n",
    "from src.data import preprocess  # For time_based_split\n",
    "from src.evaluation.evaluator import RecEvaluator\n",
    "# -----------------------------------------\n",
    "\n",
    "# --- Ensure necessary variables/data are defined ---\n",
    "if 'hybrid_model' not in locals():\n",
    "    raise NameError(\"Hybrid model 'hybrid_model' not defined. Run training cell first.\")\n",
    "if 'user_id_map' not in locals():\n",
    "    raise NameError(\"'user_id_map' not defined. Run cell [3] first.\")\n",
    "if 'item_id_map' not in locals():\n",
    "    raise NameError(\"'item_id_map' not defined. Run cell [3] first.\")\n",
    "if 'item_features_df' not in locals():\n",
    "    raise NameError(\"'item_features_df' not defined. Run cell [2] first.\")\n",
    "if item_features_df.index.name != 'presentation_id':\n",
    "    raise ValueError(\"item_features_df must have 'presentation_id' as index.\")\n",
    "# -----------------------------------------------\n",
    "\n",
    "# --- Load/Recreate the CORRECT Time-Based Train/Test Split ---\n",
    "print(\"Loading/Recreating time-based split for evaluation...\")\n",
    "if 'interactions_df' not in locals():\n",
    "    interactions_df = pd.read_parquet(config.PROCESSED_DATA_DIR / \"interactions_final.parquet\")\n",
    "\n",
    "TIME_THRESHOLD = 250  # <<< Make sure this matches the threshold used elsewhere\n",
    "train_df_eval, test_df_eval = preprocess.time_based_split(\n",
    "    interactions_df=interactions_df,\n",
    "    user_col='id_student',\n",
    "    item_col='presentation_id',\n",
    "    time_col='last_interaction_date',\n",
    "    time_unit_threshold=TIME_THRESHOLD\n",
    ")\n",
    "print(f\"Time-based split ready. Train: {train_df_eval.shape}, Test: {test_df_eval.shape}\")\n",
    "# ------------------------------------------------------------------\n",
    "\n",
    "# --- Wrapper for Hybrid Model Evaluation ---\n",
    "class HybridEvaluatorWrapper:\n",
    "    def __init__(self, hybrid_model, user_map, item_map, item_features_df):\n",
    "        self.model = hybrid_model\n",
    "        self.user_id_to_idx = user_map\n",
    "        self.item_id_to_idx = item_map\n",
    "\n",
    "        # Copy and check features dataframe\n",
    "        self.item_features_ref = item_features_df.copy()\n",
    "        if self.item_features_ref.index.name != 'presentation_id':\n",
    "            raise ValueError(\"item_features_df must be indexed by presentation_id\")\n",
    "\n",
    "        # Build mapping: embedding-index -> row-index in features array\n",
    "        self.item_idx_to_feature_iloc = {\n",
    "            item_idx: row_iloc\n",
    "            for row_iloc, item_id in enumerate(self.item_features_ref.index)\n",
    "            for item_idx in ( [self.item_id_to_idx.get(item_id)] )\n",
    "            if item_idx is not None\n",
    "        }\n",
    "\n",
    "        # Numpy array of all features (in index order)\n",
    "        self.item_features_array = self.item_features_ref.values.astype(np.float32)\n",
    "        self.feature_dim = self.item_features_array.shape[1]\n",
    "        self.device = next(hybrid_model.parameters()).device\n",
    "\n",
    "    def predict(self, user_id, item_ids):\n",
    "        \"\"\" Predicts scores for a batch of (user_id, item_id)s. \"\"\"\n",
    "        user_idx = self.user_id_to_idx.get(user_id)\n",
    "        if user_idx is None:\n",
    "            return np.zeros(len(item_ids), dtype=np.float32)\n",
    "\n",
    "        pred_user_indices = []\n",
    "        pred_item_indices = []\n",
    "        pred_item_features = []\n",
    "        original_pos_map = {}\n",
    "\n",
    "        for pos, item_id in enumerate(item_ids):\n",
    "            item_idx = self.item_id_to_idx.get(item_id)\n",
    "            feat_iloc = self.item_idx_to_feature_iloc.get(item_idx)\n",
    "            if item_idx is not None and feat_iloc is not None:\n",
    "                pred_user_indices.append(user_idx)\n",
    "                pred_item_indices.append(item_idx)\n",
    "                pred_item_features.append(self.item_features_array[feat_iloc])\n",
    "                original_pos_map[item_idx] = pos\n",
    "\n",
    "        if not pred_item_indices:\n",
    "            return np.zeros(len(item_ids), dtype=np.float32)\n",
    "\n",
    "        # Convert to tensors\n",
    "        user_tensor = torch.tensor(pred_user_indices, dtype=torch.long, device=self.device)\n",
    "        item_tensor = torch.tensor(pred_item_indices, dtype=torch.long, device=self.device)\n",
    "        feat_tensor = torch.tensor(np.vstack(pred_item_features), dtype=torch.float32, device=self.device)\n",
    "\n",
    "        # Forward pass\n",
    "        self.model.eval()\n",
    "        with torch.no_grad():\n",
    "            logits = self.model(user_tensor, item_tensor, feat_tensor)\n",
    "\n",
    "        scores = logits.cpu().numpy()\n",
    "        final_scores = np.zeros(len(item_ids), dtype=np.float32)\n",
    "        for idx, score in zip(pred_item_indices, scores):\n",
    "            final_scores[original_pos_map[idx]] = score\n",
    "\n",
    "        return final_scores\n",
    "# ------------------------------------------------------------------\n",
    "\n",
    "# --- Wrap and Evaluate ---\n",
    "hybrid_eval_wrapper = HybridEvaluatorWrapper(\n",
    "    hybrid_model,\n",
    "    user_id_map,\n",
    "    item_id_map,\n",
    "    item_features_df\n",
    ")\n",
    "print(\"Hybrid model wrapped for evaluation.\")\n",
    "\n",
    "if test_df_eval.empty:\n",
    "    print(\"\\nCannot evaluate Hybrid model: Test data (time-split) is empty.\")\n",
    "else:\n",
    "    print(f\"\\nInitializing evaluator with Train: {train_df_eval.shape}, Test: {test_df_eval.shape}\")\n",
    "    hybrid_evaluator = RecEvaluator(\n",
    "        train_df=train_df_eval,\n",
    "        test_df=test_df_eval,\n",
    "        item_features_df=item_features_df,\n",
    "        user_col='id_student',\n",
    "        item_col='presentation_id',\n",
    "        k=config.TOP_K\n",
    "    )\n",
    "\n",
    "    print(\"\\n--- Starting Evaluation of Hybrid Model ---\")\n",
    "    hybrid_results = hybrid_evaluator.evaluate_model(hybrid_eval_wrapper, n_neg_samples=100)\n",
    "\n",
    "    print(\"\\nHybrid Model Evaluation Results:\")\n",
    "    print(hybrid_results)\n"
   ]
  }
 ],
 "metadata": {
  "kernelspec": {
   "display_name": "base",
   "language": "python",
   "name": "python3"
  },
  "language_info": {
   "codemirror_mode": {
    "name": "ipython",
    "version": 3
   },
   "file_extension": ".py",
   "mimetype": "text/x-python",
   "name": "python",
   "nbconvert_exporter": "python",
   "pygments_lexer": "ipython3",
   "version": "3.12.2"
  }
 },
 "nbformat": 4,
 "nbformat_minor": 2
}
